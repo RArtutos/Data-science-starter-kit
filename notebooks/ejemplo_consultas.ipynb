import duckdb
import pandas as pd
import matplotlib.pyplot as plt

con = duckdb.connect()

# Ejemplo consulta directa sobre archivo comprimido JSON (rápido sin descomprimir)
consulta = """
SELECT
    COUNT(*) AS cantidad,
    TRY_CAST(json_extract_string(json, '$._source.search_only_fields.search_year') AS INTEGER) AS año_publicacion
FROM read_ndjson_objects('/data/aa_derived_mirror_metadata_20250308/elasticsearch/*.json.gz')
GROUP BY año_publicacion
ORDER BY cantidad DESC
LIMIT 10;
"""

# Ejecutar consulta
df = con.execute(consulta).df()
display(df)

# Ejemplo visualización
df.plot.bar(x='año_publicacion', y='cantidad', figsize=(12,6))
plt.title("Top 10 años con más publicaciones")
plt.show()
