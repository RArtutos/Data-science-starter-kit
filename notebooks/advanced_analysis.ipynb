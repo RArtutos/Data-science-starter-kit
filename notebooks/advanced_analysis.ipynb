{
 "cells": [
  {
   "cell_type": "markdown",
   "metadata": {},
   "source": [
    "# Advanced DuckDB Analysis\n",
    "\n",
    "This notebook demonstrates more complex analysis using DuckDB, Pandas, and visualizations."
   ]
  },
  {
   "cell_type": "code",
   "execution_count": null,
   "metadata": {},
   "source": [
    "import duckdb\n",
    "import pandas as pd\n",
    "import matplotlib.pyplot as plt\n",
    "\n",
    "# Connect to DuckDB\n",
    "conn = duckdb.connect(database=':memory:', read_only=False)"
   ]
  },
  {
   "cell_type": "markdown",
   "metadata": {},
   "source": [
    "## 1. ISBN Analysis\n",
    "\n",
    "Analyze ISBN distribution and patterns:"
   ]
  },
  {
   "cell_type": "code",
   "execution_count": null,
   "metadata": {},
   "source": [
    "isbn_query = \"\"\"\n",
    "SELECT\n",
    "    (TRY_CAST(json_extract_string(json, '$._source.search_only_fields.search_isbn13[0]') AS BIGINT) - 978000000000) // 15625000 AS isbn_bucket,\n",
    "    COUNT(*) as count\n",
    "FROM read_ndjson_objects('/data/elasticsearch/*.json.gz')\n",
    "WHERE json_extract_string(json, '$._source.search_only_fields.search_isbn13[0]') IS NOT NULL\n",
    "GROUP BY isbn_bucket\n",
    "ORDER BY count DESC\n",
    "LIMIT 20;\n",
    "\"\"\"\n",
    "\n",
    "df_isbn = conn.execute(isbn_query).fetchdf()\n",
    "\n",
    "# Visualize ISBN distribution\n",
    "plt.figure(figsize=(12, 6))\n",
    "plt.bar(df_isbn['isbn_bucket'], df_isbn['count'])\n",
    "plt.title('ISBN Distribution by Bucket')\n",
    "plt.xlabel('ISBN Bucket')\n",
    "plt.ylabel('Count')\n",
    "plt.show()"
   ]
  },
  {
   "cell_type": "markdown",
   "metadata": {},
   "source": [
    "## 2. Publisher Analysis\n",
    "\n",
    "Analyze top publishers and their publication patterns:"
   ]
  },
  {
   "cell_type": "code",
   "execution_count": null,
   "metadata": {},
   "source": [
    "publisher_query = \"\"\"\n",
    "SELECT\n",
    "    json_extract_string(json, '$._source.search_only_fields.search_publisher') AS publisher,\n",
    "    COUNT(*) as total_books,\n",
    "    COUNT(DISTINCT json_extract_string(json, '$._source.search_only_fields.search_author')) as unique_authors,\n",
    "    AVG(TRY_CAST(json_extract_string(json, '$._source.search_only_fields.search_year') AS INTEGER)) as avg_year\n",
    "FROM read_ndjson_objects('/data/elasticsearch/*.json.gz')\n",
    "WHERE publisher IS NOT NULL\n",
    "GROUP BY publisher\n",
    "HAVING total_books > 10\n",
    "ORDER BY total_books DESC\n",
    "LIMIT 15;\n",
    "\"\"\"\n",
    "\n",
    "df_publishers = conn.execute(publisher_query).fetchdf()\n",
    "display(df_publishers)"
   ]
  },
  {
   "cell_type": "markdown",
   "metadata": {},
   "source": [
    "## 3. Archive Status Analysis\n",
    "\n",
    "Analyze the archival status of books:"
   ]
  },
  {
   "cell_type": "code",
   "execution_count": null,
   "metadata": {},
   "source": [
    "archive_query = \"\"\"\n",
    "WITH status AS (\n",
    "    SELECT\n",
    "        TRY_CAST(json_extract_string(json, '$._source.search_only_fields.search_year') AS INTEGER) AS year,\n",
    "        (\n",
    "            json_extract(json, '$._source.file_unified_data.has_aa_downloads') = 'true'\n",
    "            OR json_extract(json, '$._source.file_unified_data.has_aa_exclusive_downloads') = 'true'\n",
    "            OR json_extract(json, '$._source.file_unified_data.has_torrent_paths') = 'true'\n",
    "        ) AS is_archived\n",
    "    FROM read_ndjson_objects('/data/elasticsearch/*.json.gz')\n",
    "    WHERE year IS NOT NULL\n",
    ")\n",
    "SELECT\n",
    "    year,\n",
    "    COUNT(*) as total,\n",
    "    SUM(CASE WHEN is_archived THEN 1 ELSE 0 END) as archived,\n",
    "    ROUND(100.0 * SUM(CASE WHEN is_archived THEN 1 ELSE 0 END) / COUNT(*), 2) as archived_percentage\n",
    "FROM status\n",
    "WHERE year BETWEEN 1990 AND 2023\n",
    "GROUP BY year\n",
    "ORDER BY year;\n",
    "\"\"\"\n",
    "\n",
    "df_archive = conn.execute(archive_query).fetchdf()\n",
    "\n",
    "# Plot archive status over time\n",
    "plt.figure(figsize=(15, 6))\n",
    "plt.plot(df_archive['year'], df_archive['archived_percentage'], marker='o')\n",
    "plt.title('Percentage of Archived Books by Year')\n",
    "plt.xlabel('Year')\n",
    "plt.ylabel('Archived Percentage')\n",
    "plt.grid(True)\n",
    "plt.show()"
   ]
  }
 ],
 "metadata": {
  "kernelspec": {
   "display_name": "Python 3",
   "language": "python",
   "name": "python3"
  },
  "language_info": {
   "codemirror_mode": {
    "name": "ipython",
    "version": 3
   },
   "file_extension": ".py",
   "mimetype": "text/x-python",
   "name": "python",
   "nbconvert_exporter": "python",
   "pygments_lexer": "ipython3",
   "version": "3.12.9"
  }
 },
 "nbformat": 4,
 "nbformat_minor": 4
}