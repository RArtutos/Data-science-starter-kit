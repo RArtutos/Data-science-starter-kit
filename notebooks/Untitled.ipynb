{
 "cells": [
  {
   "cell_type": "code",
   "execution_count": 8,
   "id": "c585c751-c2bb-4791-adc3-a2416e86c09e",
   "metadata": {},
   "outputs": [
    {
     "data": {
      "text/html": [
       "<div>\n",
       "<style scoped>\n",
       "    .dataframe tbody tr th:only-of-type {\n",
       "        vertical-align: middle;\n",
       "    }\n",
       "\n",
       "    .dataframe tbody tr th {\n",
       "        vertical-align: top;\n",
       "    }\n",
       "\n",
       "    .dataframe thead th {\n",
       "        text-align: right;\n",
       "    }\n",
       "</style>\n",
       "<table border=\"1\" class=\"dataframe\">\n",
       "  <thead>\n",
       "    <tr style=\"text-align: right;\">\n",
       "      <th></th>\n",
       "      <th>name</th>\n",
       "    </tr>\n",
       "  </thead>\n",
       "  <tbody>\n",
       "  </tbody>\n",
       "</table>\n",
       "</div>"
      ],
      "text/plain": [
       "Empty DataFrame\n",
       "Columns: [name]\n",
       "Index: []"
      ]
     },
     "metadata": {},
     "output_type": "display_data"
    }
   ],
   "source": [
    "\"\"\"\n",
    "📌 DuckDB + Jupyter Notebook (Ejecutando dentro de Docker)\n",
    "- Permite consultas rápidas sobre archivos JSONL comprimidos dentro de Docker.\n",
    "- Se conecta a DuckDB y ejecuta SQL directamente.\n",
    "- Muestra resultados en un dataframe de Pandas.\n",
    "\"\"\"\n",
    "\n",
    "import duckdb\n",
    "import pandas as pd\n",
    "\n",
    "# 📍 Ruta dentro del contenedor Docker (asegúrate de montar el volumen correctamente)\n",
    "json_path = \"/data/elasticsearch/aarecords__0.json.gz\"\n",
    "\n",
    "# 🚀 Conectar a DuckDB\n",
    "db = duckdb.connect()\n",
    "\n",
    "# 🔍 Ejecutar la consulta optimizada\n",
    "query = f\"\"\"\n",
    "    SELECT\n",
    "        json_extract_string(json, '$._id') AS id,\n",
    "        TRY_CAST(json_extract_string(json, '$._source.search_only_fields.search_isbn13[0]') AS BIGINT) - 978000000000 AS isbn_pos,\n",
    "        (TRY_CAST(json_extract_string(json, '$._source.search_only_fields.search_isbn13[0]') AS BIGINT) - 978000000000) // 15625000 AS isbn_bucket,\n",
    "        json_extract_string(json, '$._source.search_only_fields.search_title') AS title,\n",
    "        json_extract_string(json, '$._source.search_only_fields.search_author') AS author,\n",
    "        json_extract_string(json, '$._source.search_only_fields.search_publisher') AS publisher,\n",
    "        TRY_CAST(json_extract_string(json, '$._source.search_only_fields.search_year') AS INTEGER) AS publish_year,\n",
    "        json_extract_string(json, '$._source.file_unified_data.cover_url_best') AS cover_url,\n",
    "        json_extract(json, '$._source.search_only_fields.search_record_sources') AS sources,\n",
    "        (\n",
    "            json_extract(json, '$._source.file_unified_data.has_aa_downloads') = 'true'\n",
    "            OR json_extract(json, '$._source.file_unified_data.has_aa_exclusive_downloads') = 'true'\n",
    "            OR json_extract(json, '$._source.file_unified_data.has_torrent_paths') = 'true'\n",
    "        ) AS is_archived,\n",
    "        (\n",
    "            json_extract(json, '$._source.file_unified_data.classifications_unified.oclc_holdings') IS NOT NULL\n",
    "            AND json_array_length(json_extract(json, '$._source.file_unified_data.classifications_unified.oclc_holdings')) > 0\n",
    "        ) AS is_rare\n",
    "    FROM read_ndjson_objects(['{json_path}'])\n",
    "    LIMIT 10;\n",
    "\"\"\"\n",
    "\n",
    "# 🔥 Ejecutar la consulta y mostrar el resultado\n",
    "df = db.execute(query).fetchdf()\n",
    "display(df)\n"
   ]
  },
  {
   "cell_type": "code",
   "execution_count": null,
   "id": "41e11084-c199-4670-a464-758f9c58a5ed",
   "metadata": {},
   "outputs": [],
   "source": [
    "!ls /data/\n"
   ]
  },
  {
   "cell_type": "code",
   "execution_count": null,
   "id": "9ff8c940-33cf-45fa-ab8a-a060fc954bb1",
   "metadata": {},
   "outputs": [],
   "source": []
  }
 ],
 "metadata": {
  "kernelspec": {
   "display_name": "Python 3 (ipykernel)",
   "language": "python",
   "name": "python3"
  },
  "language_info": {
   "codemirror_mode": {
    "name": "ipython",
    "version": 3
   },
   "file_extension": ".py",
   "mimetype": "text/x-python",
   "name": "python",
   "nbconvert_exporter": "python",
   "pygments_lexer": "ipython3",
   "version": "3.12.9"
  }
 },
 "nbformat": 4,
 "nbformat_minor": 5
}
