{
 "cells": [
  {
   "cell_type": "markdown",
   "metadata": {},
   "source": [
    "# Basic DuckDB Queries\n",
    "\n",
    "This notebook demonstrates basic DuckDB functionality for analyzing JSON data.\n",
    "\n",
    "## Setup and Imports"
   ]
  },
  {
   "cell_type": "code",
   "execution_count": null,
   "metadata": {},
   "source": [
    "import duckdb\n",
    "import pandas as pd\n",
    "import matplotlib.pyplot as plt\n",
    "\n",
    "# Connect to DuckDB (in-memory database)\n",
    "conn = duckdb.connect(database=':memory:', read_only=False)\n",
    "print(\"✅ Connected to DuckDB\")"
   ]
  },
  {
   "cell_type": "markdown",
   "metadata": {},
   "source": [
    "## 1. Basic Record Query\n",
    "\n",
    "This query extracts basic book information from the JSON data:"
   ]
  },
  {
   "cell_type": "code",
   "execution_count": null,
   "metadata": {},
   "source": [
    "basic_query = \"\"\"\n",
    "SELECT\n",
    "    json_extract_string(json, '$._id') AS id,\n",
    "    json_extract_string(json, '$._source.search_only_fields.search_title') AS title,\n",
    "    json_extract_string(json, '$._source.search_only_fields.search_author') AS author,\n",
    "    TRY_CAST(json_extract_string(json, '$._source.search_only_fields.search_year') AS INTEGER) AS publish_year\n",
    "FROM read_ndjson_objects('/data/elasticsearch/*.json.gz')\n",
    "LIMIT 10;\n",
    "\"\"\"\n",
    "\n",
    "df_basic = conn.execute(basic_query).fetchdf()\n",
    "display(df_basic)"
   ]
  },
  {
   "cell_type": "markdown",
   "metadata": {},
   "source": [
    "## 2. Publication Year Analysis\n",
    "\n",
    "Count publications by year:"
   ]
  },
  {
   "cell_type": "code",
   "execution_count": null,
   "metadata": {},
   "source": [
    "year_query = \"\"\"\n",
    "SELECT\n",
    "    COUNT(*) AS count,\n",
    "    TRY_CAST(json_extract_string(json, '$._source.search_only_fields.search_year') AS INTEGER) AS publish_year\n",
    "FROM read_ndjson_objects('/data/elasticsearch/*.json.gz')\n",
    "WHERE publish_year IS NOT NULL\n",
    "GROUP BY publish_year\n",
    "ORDER BY publish_year DESC\n",
    "LIMIT 20;\n",
    "\"\"\"\n",
    "\n",
    "df_years = conn.execute(year_query).fetchdf()\n",
    "\n",
    "# Create bar plot\n",
    "plt.figure(figsize=(12, 6))\n",
    "plt.bar(df_years['publish_year'], df_years['count'])\n",
    "plt.title('Publications by Year')\n",
    "plt.xlabel('Year')\n",
    "plt.ylabel('Number of Publications')\n",
    "plt.show()"
   ]
  },
  {
   "cell_type": "markdown",
   "metadata": {},
   "source": [
    "## 3. Advanced Record Query\n",
    "\n",
    "This query includes additional fields and calculated values:"
   ]
  },
  {
   "cell_type": "code",
   "execution_count": null,
   "metadata": {},
   "source": [
    "advanced_query = \"\"\"\n",
    "SELECT\n",
    "    json_extract_string(json, '$._id') AS id,\n",
    "    TRY_CAST(json_extract_string(json, '$._source.search_only_fields.search_isbn13[0]') AS BIGINT) - 978000000000 AS isbn_pos,\n",
    "    json_extract_string(json, '$._source.search_only_fields.search_title') AS title,\n",
    "    json_extract_string(json, '$._source.search_only_fields.search_author') AS author,\n",
    "    json_extract_string(json, '$._source.search_only_fields.search_publisher') AS publisher,\n",
    "    TRY_CAST(json_extract_string(json, '$._source.search_only_fields.search_year') AS INTEGER) AS publish_year,\n",
    "    json_extract_string(json, '$._source.file_unified_data.cover_url_best') AS cover_url,\n",
    "    json_extract(json, '$._source.search_only_fields.search_record_sources') AS sources,\n",
    "    (\n",
    "        json_extract(json, '$._source.file_unified_data.has_aa_downloads') = 'true'\n",
    "        OR json_extract(json, '$._source.file_unified_data.has_aa_exclusive_downloads') = 'true'\n",
    "        OR json_extract(json, '$._source.file_unified_data.has_torrent_paths') = 'true'\n",
    "    ) AS is_archived\n",
    "FROM read_ndjson_objects('/data/elasticsearch/*.json.gz')\n",
    "LIMIT 10;\n",
    "\"\"\"\n",
    "\n",
    "df_advanced = conn.execute(advanced_query).fetchdf()\n",
    "display(df_advanced)"
   ]
  }
 ],
 "metadata": {
  "kernelspec": {
   "display_name": "Python 3",
   "language": "python",
   "name": "python3"
  },
  "language_info": {
   "codemirror_mode": {
    "name": "ipython",
    "version": 3
   },
   "file_extension": ".py",
   "mimetype": "text/x-python",
   "name": "python",
   "nbconvert_exporter": "python",
   "pygments_lexer": "ipython3",
   "version": "3.12.9"
  }
 },
 "nbformat": 4,
 "nbformat_minor": 4
}